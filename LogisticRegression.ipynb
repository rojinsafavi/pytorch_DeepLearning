{
 "cells": [
  {
   "cell_type": "code",
   "execution_count": 53,
   "id": "4ab23707",
   "metadata": {},
   "outputs": [],
   "source": [
    "import torch\n",
    "import torch.nn as nn\n",
    "import torch.optim as optim\n",
    "from torch.utils.data import TensorDataset, DataLoader, random_split\n",
    "from sklearn.datasets import make_classification\n",
    "from sklearn.preprocessing import StandardScaler\n",
    "from sklearn.metrics import accuracy_score\n",
    "import matplotlib.pyplot as plt\n",
    "import numpy"
   ]
  },
  {
   "cell_type": "code",
   "execution_count": 57,
   "id": "27247ed1",
   "metadata": {},
   "outputs": [],
   "source": [
    "\n",
    "# Set random seed\n",
    "torch.manual_seed(42)\n",
    "\n",
    "# --- Step 1: Generate and Preprocess Data ---\n",
    "\n",
    "# Create synthetic dataset with 50 features\n",
    "X, y = make_classification(n_samples=1000, n_features=50, n_informative=30, \n",
    "                           n_redundant=10, random_state=42)\n",
    "\n",
    "# Standardize features\n",
    "scaler = StandardScaler()\n",
    "X = scaler.fit_transform(X)\n",
    "\n",
    "# Convert to PyTorch tensors\n",
    "X_tensor = torch.tensor(X, dtype=torch.float32)\n",
    "y_tensor = torch.tensor(y, dtype=torch.float32).view(-1, 1)\n",
    "\n",
    "# --- Step 2: Create Dataset and Split into Train/Val/Test ---\n",
    "\n",
    "dataset = TensorDataset(X_tensor, y_tensor)\n",
    "\n",
    "# 60% train, 20% val, 20% test\n",
    "total_size = len(dataset)\n",
    "train_size = int(0.6 * total_size)\n",
    "val_size = int(0.2 * total_size)\n",
    "test_size = total_size - train_size - val_size\n",
    "\n",
    "train_set, val_set, test_set = random_split(dataset, [train_size, val_size, test_size])\n",
    "\n",
    "# DataLoaders for batching\n",
    "batch_size = 32\n",
    "train_loader = DataLoader(train_set, batch_size=batch_size, shuffle=True)\n",
    "val_loader = DataLoader(val_set, batch_size=batch_size)\n",
    "test_loader = DataLoader(test_set, batch_size=batch_size)\n"
   ]
  },
  {
   "cell_type": "code",
   "execution_count": 58,
   "id": "7f54bdda",
   "metadata": {},
   "outputs": [],
   "source": [
    "# --- Step 3: Define Model ---\n",
    "\n",
    "class NeuralNet(nn.Module):\n",
    "    def __init__(self, input_dim):\n",
    "        super(NeuralNet, self).__init__()\n",
    "        self.hidden1 = nn.Linear(input_dim, 64)\n",
    "        self.hidden2 = nn.Linear(64, 32)\n",
    "        self.output = nn.Linear(32, 1)\n",
    "\n",
    "    def forward(self, x):\n",
    "        x = torch.relu(self.hidden1(x))\n",
    "        x = torch.relu(self.hidden2(x))\n",
    "        x = torch.sigmoid(self.output(x))\n",
    "        return x\n",
    "\n",
    "model = NeuralNet(input_dim=50)\n",
    "\n",
    "# Loss and optimizer\n",
    "criterion = nn.BCELoss()\n",
    "optimizer = optim.Adam(model.parameters(), lr=0.001)\n"
   ]
  },
  {
   "cell_type": "code",
   "execution_count": 59,
   "id": "092e9414",
   "metadata": {},
   "outputs": [
    {
     "name": "stdout",
     "output_type": "stream",
     "text": [
      "Epoch 1/50 | Train Loss: 0.6848 | Val Loss: 0.6703\n",
      "Epoch 2/50 | Train Loss: 0.6499 | Val Loss: 0.6346\n",
      "Epoch 3/50 | Train Loss: 0.5953 | Val Loss: 0.5728\n",
      "Epoch 4/50 | Train Loss: 0.5106 | Val Loss: 0.4959\n",
      "Epoch 5/50 | Train Loss: 0.4160 | Val Loss: 0.4168\n",
      "Epoch 6/50 | Train Loss: 0.3344 | Val Loss: 0.3586\n",
      "Epoch 7/50 | Train Loss: 0.2665 | Val Loss: 0.3205\n",
      "Epoch 8/50 | Train Loss: 0.2143 | Val Loss: 0.2833\n",
      "Epoch 9/50 | Train Loss: 0.1718 | Val Loss: 0.2615\n",
      "Epoch 10/50 | Train Loss: 0.1387 | Val Loss: 0.2390\n",
      "Epoch 11/50 | Train Loss: 0.1087 | Val Loss: 0.2268\n",
      "Epoch 12/50 | Train Loss: 0.0862 | Val Loss: 0.2156\n",
      "Epoch 13/50 | Train Loss: 0.0696 | Val Loss: 0.2126\n",
      "Epoch 14/50 | Train Loss: 0.0563 | Val Loss: 0.2083\n",
      "Epoch 15/50 | Train Loss: 0.0469 | Val Loss: 0.2088\n",
      "Epoch 16/50 | Train Loss: 0.0380 | Val Loss: 0.2099\n",
      "Epoch 17/50 | Train Loss: 0.0318 | Val Loss: 0.2110\n",
      "Epoch 18/50 | Train Loss: 0.0274 | Val Loss: 0.2166\n",
      "Epoch 19/50 | Train Loss: 0.0235 | Val Loss: 0.2188\n",
      "Epoch 20/50 | Train Loss: 0.0202 | Val Loss: 0.2186\n",
      "Epoch 21/50 | Train Loss: 0.0180 | Val Loss: 0.2219\n",
      "Epoch 22/50 | Train Loss: 0.0162 | Val Loss: 0.2289\n",
      "Epoch 23/50 | Train Loss: 0.0142 | Val Loss: 0.2274\n",
      "Epoch 24/50 | Train Loss: 0.0127 | Val Loss: 0.2298\n",
      "Epoch 25/50 | Train Loss: 0.0110 | Val Loss: 0.2322\n",
      "Epoch 26/50 | Train Loss: 0.0094 | Val Loss: 0.2375\n",
      "Epoch 27/50 | Train Loss: 0.0082 | Val Loss: 0.2398\n",
      "Epoch 28/50 | Train Loss: 0.0063 | Val Loss: 0.2394\n",
      "Epoch 29/50 | Train Loss: 0.0055 | Val Loss: 0.2410\n",
      "Epoch 30/50 | Train Loss: 0.0048 | Val Loss: 0.2456\n",
      "Epoch 31/50 | Train Loss: 0.0043 | Val Loss: 0.2492\n",
      "Epoch 32/50 | Train Loss: 0.0038 | Val Loss: 0.2509\n",
      "Epoch 33/50 | Train Loss: 0.0034 | Val Loss: 0.2549\n",
      "Epoch 34/50 | Train Loss: 0.0031 | Val Loss: 0.2561\n",
      "Epoch 35/50 | Train Loss: 0.0028 | Val Loss: 0.2587\n",
      "Epoch 36/50 | Train Loss: 0.0026 | Val Loss: 0.2624\n",
      "Epoch 37/50 | Train Loss: 0.0024 | Val Loss: 0.2640\n",
      "Epoch 38/50 | Train Loss: 0.0022 | Val Loss: 0.2671\n",
      "Epoch 39/50 | Train Loss: 0.0020 | Val Loss: 0.2694\n",
      "Epoch 40/50 | Train Loss: 0.0019 | Val Loss: 0.2714\n",
      "Epoch 41/50 | Train Loss: 0.0018 | Val Loss: 0.2730\n",
      "Epoch 42/50 | Train Loss: 0.0017 | Val Loss: 0.2758\n",
      "Epoch 43/50 | Train Loss: 0.0016 | Val Loss: 0.2780\n",
      "Epoch 44/50 | Train Loss: 0.0015 | Val Loss: 0.2799\n",
      "Epoch 45/50 | Train Loss: 0.0014 | Val Loss: 0.2817\n",
      "Epoch 46/50 | Train Loss: 0.0013 | Val Loss: 0.2832\n",
      "Epoch 47/50 | Train Loss: 0.0012 | Val Loss: 0.2856\n",
      "Epoch 48/50 | Train Loss: 0.0012 | Val Loss: 0.2875\n",
      "Epoch 49/50 | Train Loss: 0.0011 | Val Loss: 0.2895\n",
      "Epoch 50/50 | Train Loss: 0.0010 | Val Loss: 0.2912\n"
     ]
    }
   ],
   "source": [
    "# --- Step 4: Training Loop with Validation and Batching ---\n",
    "\n",
    "num_epochs = 50\n",
    "train_losses = []\n",
    "val_losses = []\n",
    "\n",
    "for epoch in range(num_epochs):\n",
    "    model.train()\n",
    "    epoch_train_loss = 0.0\n",
    "\n",
    "    for X_batch, y_batch in train_loader:\n",
    "        preds = model(X_batch)\n",
    "        loss = criterion(preds, y_batch)\n",
    "\n",
    "        optimizer.zero_grad()\n",
    "        loss.backward()\n",
    "        optimizer.step()\n",
    "\n",
    "        epoch_train_loss += loss.item() * X_batch.size(0)\n",
    "\n",
    "    epoch_train_loss /= train_size\n",
    "    train_losses.append(epoch_train_loss)\n",
    "\n",
    "    # Validation\n",
    "    model.eval()\n",
    "    epoch_val_loss = 0.0\n",
    "    with torch.no_grad():\n",
    "        for X_val, y_val in val_loader:\n",
    "            val_preds = model(X_val)\n",
    "            val_loss = criterion(val_preds, y_val)\n",
    "            epoch_val_loss += val_loss.item() * X_val.size(0)\n",
    "\n",
    "    epoch_val_loss /= val_size\n",
    "    val_losses.append(epoch_val_loss)\n",
    "\n",
    "    print(f\"Epoch {epoch+1}/{num_epochs} | Train Loss: {epoch_train_loss:.4f} | Val Loss: {epoch_val_loss:.4f}\")"
   ]
  },
  {
   "cell_type": "code",
   "execution_count": null,
   "id": "05abcbc2",
   "metadata": {},
   "outputs": [
    {
     "data": {
      "image/png": "[encoded data removed]",
      "text/plain": [
       "<Figure size 640x480 with 1 Axes>"
      ]
     },
     "metadata": {},
     "output_type": "display_data"
    }
   ],
   "source": [
    "# --- Step 5: Plot Loss Curves ---\n",
    "\n",
    "plt.plot(train_losses, label='Training Loss')\n",
    "plt.plot(val_losses, label='Validation Loss')\n",
    "plt.xlabel('Epoch')\n",
    "plt.ylabel('Loss')\n",
    "plt.title('Training & Validation Loss')\n",
    "plt.legend()\n",
    "plt.grid(True)\n",
    "plt.show()"
   ]
  },
  {
   "cell_type": "code",
   "execution_count": 61,
   "id": "fb1cb2f4",
   "metadata": {},
   "outputs": [
    {
     "name": "stdout",
     "output_type": "stream",
     "text": [
      "\n",
      "✅ Test Accuracy: 91.00%\n"
     ]
    }
   ],
   "source": [
    "\n",
    "# --- Step 6: Evaluate on Test Set ---\n",
    "\n",
    "model.eval()\n",
    "all_preds = []\n",
    "all_labels = []\n",
    "\n",
    "with torch.no_grad():\n",
    "    for X_test, y_test in test_loader:\n",
    "        preds = model(X_test)\n",
    "        labels = (preds >= 0.5).float()\n",
    "        all_preds.extend(labels.tolist())\n",
    "        all_labels.extend(y_test.tolist())\n",
    "\n",
    "test_acc = accuracy_score(all_labels, all_preds)\n",
    "print(f\"\\n✅ Test Accuracy: {test_acc * 100:.2f}%\")\n"
   ]
  },
  {
   "cell_type": "code",
   "execution_count": null,
   "id": "7e7964d2",
   "metadata": {},
   "outputs": [],
   "source": []
  }
 ],
 "metadata": {
  "kernelspec": {
   "display_name": "Python 3",
   "language": "python",
   "name": "python3"
  },
  "language_info": {
   "codemirror_mode": {
    "name": "ipython",
    "version": 3
   },
   "file_extension": ".py",
   "mimetype": "text/x-python",
   "name": "python",
   "nbconvert_exporter": "python",
   "pygments_lexer": "ipython3",
   "version": "3.9.6"
  }
 },
 "nbformat": 4,
 "nbformat_minor": 5
}
